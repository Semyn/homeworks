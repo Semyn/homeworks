{
 "cells": [
  {
   "cell_type": "code",
   "execution_count": 1,
   "metadata": {},
   "outputs": [
    {
     "name": "stdout",
     "output_type": "stream",
     "text": [
      "{'Электроника', 'Бытовая техника'}\n"
     ]
    }
   ],
   "source": [
    "inventory = {\n",
    "    101: {\"name\": \"Смартфон\", \"category\": \"Электроника\", \"price\": 29999, \"quantity\": 50},\n",
    "    102: {\"name\": \"Ноутбук\", \"category\": \"Электроника\", \"price\": 54999, \"quantity\": 30},\n",
    "    103: {\"name\": \"Кофеварка\", \"category\": \"Бытовая техника\", \"price\": 7999, \"quantity\": 20},\n",
    "}\n",
    "\n",
    "\n",
    "def add_product(inventory, product_id, name, category, price, quantity):\n",
    "    \n",
    "    if product_id in inventory:\n",
    "        inventory[product_id][\"quantity\"] += quantity\n",
    "    else:\n",
    "        inventory[product_id] = {\n",
    "            \"name\": name,\n",
    "            \"category\": category,\n",
    "            \"price\": price,\n",
    "            \"quantity\": quantity\n",
    "        }\n",
    "\n",
    "def remove_product(inventory, product_id):\n",
    "    \n",
    "    if product_id in inventory:\n",
    "        del inventory[product_id]\n",
    "    else:\n",
    "        print(f\"Ошибка: Товар с ID {product_id} не существует.\")\n",
    "\n",
    "def update_quantity(inventory, product_id, quantity):\n",
    "    \n",
    "    if product_id in inventory:\n",
    "        if quantity <= 0:\n",
    "            del inventory[product_id]\n",
    "        else:\n",
    "            inventory[product_id][\"quantity\"] = quantity\n",
    "    else:\n",
    "        print(f\"Ошибка: Товар с ID {product_id} не существует.\")\n",
    "\n",
    "def get_unique_categories(inventory):\n",
    "    \n",
    "    return {product[\"category\"] for product in inventory.values()}\n",
    "\n",
    "add_product(inventory, 104, \"Телевизор\", \"Электроника\", 45000, 15)\n",
    "\n",
    "remove_product(inventory, 101)\n",
    "\n",
    "update_quantity(inventory, 102, 25)\n",
    "\n",
    "categories = get_unique_categories(inventory)\n",
    "\n",
    "print(categories)"
   ]
  }
 ],
 "metadata": {
  "kernelspec": {
   "display_name": "Python 3",
   "language": "python",
   "name": "python3"
  },
  "language_info": {
   "codemirror_mode": {
    "name": "ipython",
    "version": 3
   },
   "file_extension": ".py",
   "mimetype": "text/x-python",
   "name": "python",
   "nbconvert_exporter": "python",
   "pygments_lexer": "ipython3",
   "version": "3.11.9"
  }
 },
 "nbformat": 4,
 "nbformat_minor": 2
}
