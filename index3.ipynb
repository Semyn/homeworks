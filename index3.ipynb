{
 "cells": [
  {
   "cell_type": "code",
   "execution_count": 1,
   "metadata": {},
   "outputs": [
    {
     "name": "stderr",
     "output_type": "stream",
     "text": [
      "2024-12-27 17:31:55,171 - SMS sent:Hello, world! As EMail\n",
      "2024-12-27 17:31:55,172 - Email sent:Hello, world! As SMS\n",
      "2024-12-27 17:31:55,173 - Error: unknown notification type\n"
     ]
    },
    {
     "name": "stdout",
     "output_type": "stream",
     "text": [
      "SMS sent: Hello, world! As EMail\n",
      "Email sent: Hello, world! As SMS\n",
      "Error: unknown notification type\n"
     ]
    }
   ],
   "source": [
    "import logging\n",
    "from datetime import datetime\n",
    "\n",
    "logging.basicConfig(filemode=\"notification.log\",level=logging.INFO,format='%(asctime)s - %(message)s')\n",
    "\n",
    "def send_SMS(message):\n",
    "    print(f\"SMS sent: {message}\")\n",
    "    logging.info(f\"SMS sent:{message}\")\n",
    "\n",
    "def send_Email(message):\n",
    "    print(f\"Email sent: {message}\")\n",
    "    logging.info(f\"Email sent:{message}\")\n",
    "\n",
    "def send_notificaton(notification_type,calback,message):\n",
    "    try:\n",
    "        if notification_type not in [\"Email\",\"SMS\"]:\n",
    "            raise ValueError(\"unknown notification type\")\n",
    "        calback(message)\n",
    "    except ValueError as err:\n",
    "        print(f\"Error: {err}\")\n",
    "        logging.error(f\"Error: {err}\")\n",
    "send_notificaton(\"SMS\",send_SMS,\"Hello, world! As EMail\")\n",
    "send_notificaton(\"Email\",send_Email,\"Hello, world! As SMS\")\n",
    "send_notificaton(\"push\",None,\"This will trigger an error\")"
   ]
  }
 ],
 "metadata": {
  "kernelspec": {
   "display_name": "Python 3",
   "language": "python",
   "name": "python3"
  },
  "language_info": {
   "codemirror_mode": {
    "name": "ipython",
    "version": 3
   },
   "file_extension": ".py",
   "mimetype": "text/x-python",
   "name": "python",
   "nbconvert_exporter": "python",
   "pygments_lexer": "ipython3",
   "version": "3.11.9"
  }
 },
 "nbformat": 4,
 "nbformat_minor": 2
}
