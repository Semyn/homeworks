{
 "cells": [
  {
   "cell_type": "markdown",
   "metadata": {},
   "source": [
    "### с помощью алгоритма пузырьковой сортировки"
   ]
  },
  {
   "cell_type": "code",
   "execution_count": 1,
   "metadata": {},
   "outputs": [
    {
     "name": "stdout",
     "output_type": "stream",
     "text": [
      "Bob: 75.00\n",
      "Alice: 85.00\n",
      "Charlie: 95.00\n"
     ]
    }
   ],
   "source": [
    "class Student:\n",
    "    def __init__(self, name, grades):\n",
    "        self.name = name\n",
    "        self.grades = grades\n",
    "\n",
    "    def average_grade(self):\n",
    "        return sum(self.grades) / len(self.grades)\n",
    "\n",
    "def bubble_sort(students):\n",
    "    n = len(students)\n",
    "    for i in range(n):\n",
    "        for j in range(0, n-i-1):\n",
    "            if students[j].average_grade() > students[j+1].average_grade():\n",
    "                students[j], students[j+1] = students[j+1], students[j]\n",
    "\n",
    "students = [\n",
    "    Student(\"Alice\", [90, 80, 85]),\n",
    "    Student(\"Bob\", [70, 75, 80]),\n",
    "    Student(\"Charlie\", [95, 100, 90])\n",
    "]\n",
    "\n",
    "bubble_sort(students)\n",
    "\n",
    "for student in students:\n",
    "    print(f\"{student.name}: {student.average_grade():.2f}\")"
   ]
  },
  {
   "cell_type": "code",
   "execution_count": 2,
   "metadata": {},
   "outputs": [
    {
     "name": "stdout",
     "output_type": "stream",
     "text": [
      "температура за месяц по возврастанию: [5, 8, 15, 19, 20, 21, 23, 25]\n"
     ]
    }
   ],
   "source": [
    "arr = [15,20,21,23,25,8,5,19]\n",
    "n = len(arr)\n",
    "for i in range(n-1):\n",
    "    for i in range(n-1):\n",
    "        if arr[i] > arr[i+1]:\n",
    "            arr[i],arr[i+1] = arr[i+1],arr[i]\n",
    "print(\"температура за месяц по возврастанию:\",arr)"
   ]
  },
  {
   "cell_type": "code",
   "execution_count": 7,
   "metadata": {},
   "outputs": [
    {
     "name": "stdout",
     "output_type": "stream",
     "text": [
      "алфавиту по слов сортировка\n"
     ]
    }
   ],
   "source": [
    "def bubble_sort(words):\n",
    "    n = len(words)\n",
    "    for i in range(n):\n",
    "        for j in range(0, n-i-1):\n",
    "            if words[j] > words[j+1]:\n",
    "                words[j], words[j+1] = words[j+1], words[j]\n",
    "\n",
    "sentence = \"сортировка слов по алфавиту\"\n",
    "words = sentence.split()\n",
    "\n",
    "bubble_sort(words)\n",
    "\n",
    "sorted_sentence = ' '.join(words)\n",
    "print(sorted_sentence)"
   ]
  },
  {
   "cell_type": "markdown",
   "metadata": {},
   "source": [
    "### линейная сортировка"
   ]
  },
  {
   "cell_type": "code",
   "execution_count": 8,
   "metadata": {},
   "outputs": [
    {
     "name": "stdout",
     "output_type": "stream",
     "text": [
      "2\n"
     ]
    }
   ],
   "source": [
    "def find_first_occurrence(numbers, target):\n",
    "    for index, value in enumerate(numbers):\n",
    "        if value == target:\n",
    "            return index\n",
    "    return -1\n",
    "\n",
    "numbers_list = [10, 20, 30, 40, 30, 50]\n",
    "target_value = 30\n",
    "\n",
    "index = find_first_occurrence(numbers_list, target_value)\n",
    "print(index)"
   ]
  }
 ],
 "metadata": {
  "kernelspec": {
   "display_name": "Python 3",
   "language": "python",
   "name": "python3"
  },
  "language_info": {
   "codemirror_mode": {
    "name": "ipython",
    "version": 3
   },
   "file_extension": ".py",
   "mimetype": "text/x-python",
   "name": "python",
   "nbconvert_exporter": "python",
   "pygments_lexer": "ipython3",
   "version": "3.11.9"
  }
 },
 "nbformat": 4,
 "nbformat_minor": 2
}
