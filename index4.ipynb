{
 "cells": [
  {
   "cell_type": "code",
   "execution_count": 1,
   "metadata": {},
   "outputs": [
    {
     "name": "stdout",
     "output_type": "stream",
     "text": [
      "Средний балл группы: 87.20\n",
      "Студенты с оценками выше среднего:  Анна, Ольга, Петр\n",
      "Студенты с оценками ниже среднего:  Иван, Сергей\n",
      "Студент с наивысшей оценкой: Петр (95)\n",
      "Студент с наименьшей оценкой: Сергей (76)\n"
     ]
    }
   ],
   "source": [
    "def calculate_average(grades):\n",
    "    return sum(grades) / len(grades)\n",
    "\n",
    "def students_above_below_average(students, grades, average):\n",
    "    above_average = []\n",
    "    below_average = []\n",
    "    \n",
    "    for student, grade in zip(students, grades):\n",
    "        if grade > average:\n",
    "            above_average.append(student)\n",
    "        elif grade < average:\n",
    "            below_average.append(student)\n",
    "    \n",
    "    return above_average, below_average\n",
    "\n",
    "def find_highest_lowest_grade(students, grades):\n",
    "    highest_grade = max(grades)\n",
    "    lowest_grade = min(grades)\n",
    "    highest_student = students[grades.index(highest_grade)]\n",
    "    lowest_student = students[grades.index(lowest_grade)]\n",
    "    \n",
    "    return highest_student, highest_grade, lowest_student, lowest_grade\n",
    "\n",
    "def main():\n",
    "    students = [\"Иван\", \"Анна\", \"Сергей\", \"Ольга\", \"Петр\"]\n",
    "    grades = [85, 92, 76, 88, 95]\n",
    "    \n",
    "    average = calculate_average(grades)\n",
    "    print(f\"Средний балл группы: {average:.2f}\")\n",
    "    \n",
    "    above_average, below_average = students_above_below_average(students, grades, average)\n",
    "    \n",
    "    print(\"Студенты с оценками выше среднего: \", ', '.join(above_average))\n",
    "    print(\"Студенты с оценками ниже среднего: \", ', '.join(below_average))\n",
    "    \n",
    "    highest_student, highest_grade, lowest_student, lowest_grade = find_highest_lowest_grade(students, grades)\n",
    "    print(f\"Студент с наивысшей оценкой: {highest_student} ({highest_grade})\")\n",
    "    print(f\"Студент с наименьшей оценкой: {lowest_student} ({lowest_grade})\")\n",
    "\n",
    "if __name__ == \"__main__\":\n",
    "    main()"
   ]
  }
 ],
 "metadata": {
  "kernelspec": {
   "display_name": "Python 3",
   "language": "python",
   "name": "python3"
  },
  "language_info": {
   "codemirror_mode": {
    "name": "ipython",
    "version": 3
   },
   "file_extension": ".py",
   "mimetype": "text/x-python",
   "name": "python",
   "nbconvert_exporter": "python",
   "pygments_lexer": "ipython3",
   "version": "3.11.9"
  }
 },
 "nbformat": 4,
 "nbformat_minor": 2
}
