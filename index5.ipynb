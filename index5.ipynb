{
 "cells": [
  {
   "cell_type": "code",
   "execution_count": 3,
   "metadata": {},
   "outputs": [],
   "source": [
    "import json\n",
    "import os\n",
    "\n",
    "class Movies:\n",
    "    def __init__(self,file):\n",
    "        self.filename = file\n",
    "        try:\n",
    "            if os.path.exists(file):\n",
    "                with open(self.filename,'r',encoding=\"UTF-8\") as file:\n",
    "                    self.file = json.load(file)\n",
    "            else:\n",
    "                self.file = []\n",
    "        except json.JSONDecodeError:\n",
    "            self.file = []\n",
    "\n",
    "    def search_movie(self,nameMovie):\n",
    "        for movie in self.file:\n",
    "            if movie[\"name\"] == nameMovie:\n",
    "                return movie\n",
    "            \n",
    "    def add_movie(self,nameMovie,yearMovie):\n",
    "        self.file.append({\"name\":nameMovie,\"year\":yearMovie})\n",
    "\n",
    "    def del_movie(self,nameMovie):\n",
    "        for movie in self.file:\n",
    "            if movie[\"name\"] == nameMovie:\n",
    "                self.file.remove(movie)\n",
    "\n",
    "    def save_movie(self):\n",
    "        with open(self.filename,'w',encoding=\"UTF-8\") as file:\n",
    "            json.dump(self.file,file,indent=4,ensure_ascii=False)\n",
    "\n",
    "FILE = \"movies.json\"\n",
    "\n",
    "myMovies = Movies(FILE)\n",
    "myMovies.add_movie(\"shrek\",\"2025\")\n",
    "myMovies.save_movie()"
   ]
  }
 ],
 "metadata": {
  "kernelspec": {
   "display_name": "Python 3",
   "language": "python",
   "name": "python3"
  },
  "language_info": {
   "codemirror_mode": {
    "name": "ipython",
    "version": 3
   },
   "file_extension": ".py",
   "mimetype": "text/x-python",
   "name": "python",
   "nbconvert_exporter": "python",
   "pygments_lexer": "ipython3",
   "version": "3.11.9"
  }
 },
 "nbformat": 4,
 "nbformat_minor": 2
}
